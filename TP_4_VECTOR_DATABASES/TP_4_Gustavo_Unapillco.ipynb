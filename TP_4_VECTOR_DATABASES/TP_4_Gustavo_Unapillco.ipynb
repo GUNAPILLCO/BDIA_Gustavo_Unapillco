{
 "cells": [
  {
   "cell_type": "markdown",
   "metadata": {},
   "source": [
    "## **TP4 - Gustavo Uñapillco**"
   ]
  },
  {
   "cell_type": "markdown",
   "metadata": {},
   "source": [
    "#### **Bases de Vectores**"
   ]
  },
  {
   "cell_type": "markdown",
   "metadata": {},
   "source": [
    "### **Introducción**"
   ]
  },
  {
   "cell_type": "code",
   "execution_count": 6,
   "metadata": {},
   "outputs": [
    {
     "name": "stderr",
     "output_type": "stream",
     "text": [
      "c:\\Users\\heguu\\miniconda3\\envs\\vector_db\\lib\\site-packages\\torchvision\\io\\image.py:13: UserWarning: Failed to load image Python extension: '[WinError 127] No se encontró el proceso especificado'If you don't plan on using image functionality from `torchvision.io`, you can ignore this warning. Otherwise, there might be something wrong with your environment. Did you have `libjpeg` or `libpng` installed before building `torchvision` from source?\n",
      "  warn(\n"
     ]
    }
   ],
   "source": [
    "# 1️⃣ Importar librerías\n",
    "from sentence_transformers import SentenceTransformer\n",
    "import chromadb\n",
    "from chromadb.config import Settings\n",
    "import os\n",
    "import numpy as np\n",
    "import uuid\n",
    "\n",
    "# Modelo de embeddings\n",
    "model_name = \"sentence-transformers/all-MiniLM-L6-v2\"\n",
    "model = SentenceTransformer(model_name)\n",
    "\n",
    "def get_embeddings(text):\n",
    "    return model.encode(text).tolist()\n",
    "\n",
    "# Inicializar ChromaDB con persistencia\n",
    "client = chromadb.PersistentClient(path=\"./chroma_store\")\n",
    "collection = client.get_or_create_collection(name=\"documentos_ia\")\n",
    "\n",
    "def cargar_documentos():\n",
    "    docs_path = \"docs/\"\n",
    "    documentos = []\n",
    "    metadatos = []\n",
    "    ids = []\n",
    "\n",
    "    for filename in os.listdir(docs_path):\n",
    "        if filename.endswith(\".txt\"):\n",
    "            with open(os.path.join(docs_path, filename), 'r', encoding=\"utf-8\") as f:\n",
    "                text = f.read().strip()\n",
    "                chunks = [text[i:i+500] for i in range(0, len(text), 500)]\n",
    "                \n",
    "                for i, chunk in enumerate(chunks):\n",
    "                    documentos.append(chunk)\n",
    "                    metadatos.append({\"source\": filename})\n",
    "                    ids.append(str(uuid.uuid4()))  # ID único\n",
    "    \n",
    "    return documentos, metadatos, ids\n",
    "\n",
    "def crear_base_datos():\n",
    "    docs, metas, ids = cargar_documentos()\n",
    "    embeddings = [get_embeddings(d) for d in docs]\n",
    "    collection.add(documents=docs, embeddings=embeddings, metadatas=metas, ids=ids)\n",
    "    print(\"✅ Base de datos creada con éxito.\")\n",
    "\n",
    "# --- CRUD FUNCIONES ---\n",
    "\n",
    "def create_example(new_doc):\n",
    "    \"\"\"Añadir un documento nuevo\"\"\"\n",
    "    embedding = get_embeddings(new_doc)\n",
    "    doc_id = str(uuid.uuid4())\n",
    "    metadata = {\"source\": \"nuevo_documento.txt\"}\n",
    "    \n",
    "    collection.add(\n",
    "        documents=[new_doc],\n",
    "        embeddings=[embedding],\n",
    "        metadatas=[metadata],\n",
    "        ids=[doc_id]\n",
    "    )\n",
    "    print(f\"✅ Documento añadido con ID: {doc_id}\")\n",
    "\n",
    "def read_example(query):\n",
    "    \"\"\"Consultar documentos similares\"\"\"\n",
    "    query_emb = get_embeddings(query)\n",
    "    results = collection.query(\n",
    "        query_embeddings=[query_emb],\n",
    "        n_results=1\n",
    "    )\n",
    "    \n",
    "    if results[\"documents\"]:\n",
    "        print(f\"📄 Mejor coincidencia: {results['documents'][0][0]}\")\n",
    "        print(f\"📁 Fuente: {results['metadatas'][0][0]['source']}\")\n",
    "        print(f\"🆔 ID: {results['ids'][0][0]}\")\n",
    "    else:\n",
    "        print(\"⚠️ No se encontraron resultados.\")\n",
    "\n",
    "def get_documents_by_id(doc_id):\n",
    "    \"\"\"Obtener un documento por ID\"\"\"\n",
    "    results = collection.get(ids=[doc_id], include=[\"documents\", \"metadatas\", \"embeddings\"])\n",
    "    \n",
    "    if results[\"documents\"]:\n",
    "        print(f\"📄 Documento: {results['documents'][0]}\")\n",
    "        print(f\"📁 Fuente: {results['metadatas'][0]['source']}\")\n",
    "    else:\n",
    "        print(\"⚠️ Documento no encontrado.\")\n",
    "\n",
    "def update_example(old_id, new_text):\n",
    "    \"\"\"Actualizar un documento (eliminar y reinsertar)\"\"\"\n",
    "    collection.delete(ids=[old_id])\n",
    "    \n",
    "    new_id = str(uuid.uuid4())\n",
    "    embedding = get_embeddings(new_text)\n",
    "    metadata = {\"source\": \"documento_actualizado.txt\"}\n",
    "    \n",
    "    collection.add(\n",
    "        documents=[new_text],\n",
    "        embeddings=[embedding],\n",
    "        metadatas=[metadata],\n",
    "        ids=[new_id]\n",
    "    )\n",
    "    print(f\"♻️ Documento actualizado. Nuevo ID: {new_id}\")\n",
    "\n",
    "def delete_example(doc_id):\n",
    "    \"\"\"Eliminar por ID\"\"\"\n",
    "    collection.delete(ids=[doc_id])\n",
    "    print(f\"🗑️ Documento con ID '{doc_id}' eliminado.\")"
   ]
  },
  {
   "cell_type": "code",
   "execution_count": 7,
   "metadata": {},
   "outputs": [
    {
     "name": "stderr",
     "output_type": "stream",
     "text": [
      "Delete of nonexisting embedding ID: 46f6ce7f-c9af-4340-b7e3-e601d505b4ec\n",
      "Delete of nonexisting embedding ID: 46f6ce7f-c9af-4340-b7e3-e601d505b4ec\n",
      "Delete of nonexisting embedding ID: no_existe\n",
      "Delete of nonexisting embedding ID: 1110d7b5-6c6c-45cf-aff6-153795d5f196\n",
      "Delete of nonexisting embedding ID: a30a9c40-05ba-4004-8ce0-2bcfcaf3ea39\n",
      "Delete of nonexisting embedding ID: a30a9c40-05ba-4004-8ce0-2bcfcaf3ea39\n",
      "Delete of nonexisting embedding ID: ff31433c-616e-4ccf-8f94-e1c03f866a55\n"
     ]
    },
    {
     "name": "stdout",
     "output_type": "stream",
     "text": [
      "✅ Base de datos creada con éxito.\n"
     ]
    }
   ],
   "source": [
    "crear_base_datos()"
   ]
  },
  {
   "cell_type": "code",
   "execution_count": 8,
   "metadata": {},
   "outputs": [],
   "source": [
    "results = collection.get(include=[\"embeddings\", \"documents\", \"metadatas\"])"
   ]
  },
  {
   "cell_type": "code",
   "execution_count": 9,
   "metadata": {},
   "outputs": [
    {
     "name": "stdout",
     "output_type": "stream",
     "text": [
      "ID: ce09db15-8022-498b-a3ba-79b43b78ec22, Contenido: En una empresa de tecnología en rápido crecimiento, trabajaban juntos un desarrollador ágil y un arq  Metadata: {'source': 'doc1.txt'} Embedding: [-0.06716214865446091, 0.00912424921989441, -0.09364323318004608, -0.1132781133055687, -0.041556213051080704]...\n",
      "ID: 0e35f7ad-fa21-41a0-980a-9de37d217d9c, Contenido: dad de usuarios en apenas un mes. El desarrollador ágil rápidamente implementó soluciones temporales  Metadata: {'source': 'doc1.txt'} Embedding: [-0.05381535366177559, 0.0009738719672895968, -0.10402170568704605, -0.12424676865339279, -0.06802421808242798]...\n",
      "ID: 292797b0-d6be-46b6-bb2e-7c15c02198c5, Contenido: io, nunca estuvo operativo a tiempo.\n",
      "\n",
      "En el mundo de la tecnología, actuar a tiempo con soluciones f  Metadata: {'source': 'doc1.txt'} Embedding: [-0.05644704028964043, -0.04881387948989868, -0.08858117461204529, -0.022213034331798553, -0.09305635839700699]...\n",
      "ID: 6e81108f-a3d4-4dc5-a75b-3fe0631bbc01, Contenido: Una compañía multinacional organizó un simulacro de ataque cibernético para evaluar la resiliencia d  Metadata: {'source': 'doc2.txt'} Embedding: [0.024166837334632874, 0.01880079135298729, -0.09593094885349274, -0.09477188438177109, 0.008653635159134865]...\n",
      "ID: 267679f5-86da-493d-9621-f325e42fe4fb, Contenido: legó políticas de contraseñas complejas. El hacker ético, en cambio, apostó por capacitar al persona  Metadata: {'source': 'doc2.txt'} Embedding: [-0.03692431375384331, 0.053647927939891815, -0.0412648506462574, -0.09208832681179047, -0.03002210706472397]...\n",
      "ID: 874d389a-38b0-4f8a-b64c-c1ee811cf011, Contenido:  sino también de las personas. A veces, la mejor defensa no es levantar muros más altos, sino educar  Metadata: {'source': 'doc2.txt'} Embedding: [-0.0192054845392704, 0.11213957518339157, 0.01939394883811474, -0.07948563992977142, -0.04902871325612068]...\n",
      "ID: a2a773fc-76e0-44c3-92fc-bdc7b17b8746, Contenido: En un bosque oscuro y denso, vivían dos niños llamados Hansel y Gretel con su padre y madrastra. La   Metadata: {'source': 'doc3.txt'} Embedding: [-0.013025311753153801, 0.051607128232717514, 0.012255520559847355, -0.015589116141200066, -0.034816641360521317]...\n",
      "ID: f051978f-803b-4e07-8c75-334023b70ad7, Contenido: los llevó nuevamente al bosque, esta vez sin dejarles piedras para seguir. Esta vez, Hansel y Gretel  Metadata: {'source': 'doc3.txt'} Embedding: [0.013411438092589378, 0.03644711151719093, 0.004563677124679089, -0.06315568089485168, -0.061769913882017136]...\n",
      "ID: 0dd6daea-cc29-486c-87c3-ce19070ba0fb, Contenido:  en el horno para cocinarlo, pero Gretel, astuta, empujó a la bruja al horno y la mató. Los niños to  Metadata: {'source': 'doc3.txt'} Embedding: [0.0823802575469017, 0.013966558501124382, 0.0039060816634446383, -0.004048430360853672, -0.05591446906328201]...\n",
      "ID: 7758e654-7ea9-4ebe-8964-11ffe2ab1bf0, Contenido:   Metadata: {'source': 'nuevo_documento.txt'} Embedding: [-0.11883839964866638, 0.048298731446266174, -0.00254809926263988, -0.011011111550033092, 0.05195074528455734]...\n",
      "ID: 671a8c3b-7d72-4c2a-9856-e3eb2f61fb57, Contenido: En una empresa de tecnología en rápido crecimiento, trabajaban juntos un desarrollador ágil y un arq  Metadata: {'source': 'doc1.txt'} Embedding: [-0.06716214865446091, 0.00912424921989441, -0.09364323318004608, -0.1132781133055687, -0.041556213051080704]...\n",
      "ID: 12519429-a6fb-4d79-ae0a-7115b37ac171, Contenido: dad de usuarios en apenas un mes. El desarrollador ágil rápidamente implementó soluciones temporales  Metadata: {'source': 'doc1.txt'} Embedding: [-0.05381535366177559, 0.0009738719672895968, -0.10402170568704605, -0.12424676865339279, -0.06802421808242798]...\n",
      "ID: 7a5deefc-cd0e-4f83-9373-1e9160f7729b, Contenido: io, nunca estuvo operativo a tiempo.\n",
      "\n",
      "En el mundo de la tecnología, actuar a tiempo con soluciones f  Metadata: {'source': 'doc1.txt'} Embedding: [-0.05644704028964043, -0.04881387948989868, -0.08858117461204529, -0.022213034331798553, -0.09305635839700699]...\n",
      "ID: 7fe124b6-bd01-4d26-b341-60cb71fbd4fa, Contenido: Una compañía multinacional organizó un simulacro de ataque cibernético para evaluar la resiliencia d  Metadata: {'source': 'doc2.txt'} Embedding: [0.024166837334632874, 0.01880079135298729, -0.09593094885349274, -0.09477188438177109, 0.008653635159134865]...\n",
      "ID: aecd4a83-8124-46d3-8836-bbe6e0d85ca6, Contenido: legó políticas de contraseñas complejas. El hacker ético, en cambio, apostó por capacitar al persona  Metadata: {'source': 'doc2.txt'} Embedding: [-0.03692431375384331, 0.053647927939891815, -0.0412648506462574, -0.09208832681179047, -0.03002210706472397]...\n",
      "ID: f873d7e3-f72f-4c18-9a57-7f3188052295, Contenido:  sino también de las personas. A veces, la mejor defensa no es levantar muros más altos, sino educar  Metadata: {'source': 'doc2.txt'} Embedding: [-0.0192054845392704, 0.11213957518339157, 0.01939394883811474, -0.07948563992977142, -0.04902871325612068]...\n",
      "ID: 628589ae-b8bf-4807-94c5-8a5879343b9a, Contenido: En un bosque oscuro y denso, vivían dos niños llamados Hansel y Gretel con su padre y madrastra. La   Metadata: {'source': 'doc3.txt'} Embedding: [-0.013025311753153801, 0.051607128232717514, 0.012255520559847355, -0.015589116141200066, -0.034816641360521317]...\n",
      "ID: 683bb885-d8a2-45cb-8c82-2e73419e5f59, Contenido: los llevó nuevamente al bosque, esta vez sin dejarles piedras para seguir. Esta vez, Hansel y Gretel  Metadata: {'source': 'doc3.txt'} Embedding: [0.013411438092589378, 0.03644711151719093, 0.004563677124679089, -0.06315568089485168, -0.061769913882017136]...\n",
      "ID: 8d540d07-ef4e-4732-9d80-7eb072d9ddf7, Contenido:  en el horno para cocinarlo, pero Gretel, astuta, empujó a la bruja al horno y la mató. Los niños to  Metadata: {'source': 'doc3.txt'} Embedding: [0.0823802575469017, 0.013966558501124382, 0.0039060816634446383, -0.004048430360853672, -0.05591446906328201]...\n",
      "ID: 242e2604-e894-4cfe-86fa-c29bafee26c4, Contenido: En una empresa de tecnología en rápido crecimiento, trabajaban juntos un desarrollador ágil y un arq  Metadata: {'source': 'doc1.txt'} Embedding: [-0.06716214865446091, 0.00912424921989441, -0.09364323318004608, -0.1132781133055687, -0.041556213051080704]...\n",
      "ID: c2036431-60c8-4419-9d9a-31c941b772f1, Contenido: dad de usuarios en apenas un mes. El desarrollador ágil rápidamente implementó soluciones temporales  Metadata: {'source': 'doc1.txt'} Embedding: [-0.05381535366177559, 0.0009738719672895968, -0.10402170568704605, -0.12424676865339279, -0.06802421808242798]...\n",
      "ID: 85d2d3fc-47d7-4cc8-820a-9e78bee355d9, Contenido: io, nunca estuvo operativo a tiempo.\n",
      "\n",
      "En el mundo de la tecnología, actuar a tiempo con soluciones f  Metadata: {'source': 'doc1.txt'} Embedding: [-0.05644704028964043, -0.04881387948989868, -0.08858117461204529, -0.022213034331798553, -0.09305635839700699]...\n",
      "ID: f9af8b06-e0da-43d4-a45e-abb1733fa8f0, Contenido: Una compañía multinacional organizó un simulacro de ataque cibernético para evaluar la resiliencia d  Metadata: {'source': 'doc2.txt'} Embedding: [0.024166837334632874, 0.01880079135298729, -0.09593094885349274, -0.09477188438177109, 0.008653635159134865]...\n",
      "ID: 923ed2c8-d055-4b71-98e0-c42175233ed9, Contenido: legó políticas de contraseñas complejas. El hacker ético, en cambio, apostó por capacitar al persona  Metadata: {'source': 'doc2.txt'} Embedding: [-0.03692431375384331, 0.053647927939891815, -0.0412648506462574, -0.09208832681179047, -0.03002210706472397]...\n",
      "ID: 34098c59-99e2-4ff2-8d1a-805887bae753, Contenido:  sino también de las personas. A veces, la mejor defensa no es levantar muros más altos, sino educar  Metadata: {'source': 'doc2.txt'} Embedding: [-0.0192054845392704, 0.11213957518339157, 0.01939394883811474, -0.07948563992977142, -0.04902871325612068]...\n",
      "ID: 200a880e-e016-4768-b9b0-88eb41dabf5c, Contenido: En un bosque oscuro y denso, vivían dos niños llamados Hansel y Gretel con su padre y madrastra. La   Metadata: {'source': 'doc3.txt'} Embedding: [-0.013025311753153801, 0.051607128232717514, 0.012255520559847355, -0.015589116141200066, -0.034816641360521317]...\n",
      "ID: 0aee6b4e-dfca-4f73-ae6b-7dabc161ec32, Contenido: los llevó nuevamente al bosque, esta vez sin dejarles piedras para seguir. Esta vez, Hansel y Gretel  Metadata: {'source': 'doc3.txt'} Embedding: [0.013411438092589378, 0.03644711151719093, 0.004563677124679089, -0.06315568089485168, -0.061769913882017136]...\n",
      "ID: 8a72cb57-514f-4b4e-a992-532acceebe93, Contenido:  en el horno para cocinarlo, pero Gretel, astuta, empujó a la bruja al horno y la mató. Los niños to  Metadata: {'source': 'doc3.txt'} Embedding: [0.0823802575469017, 0.013966558501124382, 0.0039060816634446383, -0.004048430360853672, -0.05591446906328201]...\n"
     ]
    }
   ],
   "source": [
    "for id, content, metadata, embedding in zip(results[\"ids\"], results[\"documents\"], results[\"metadatas\"], results[\"embeddings\"]):\n",
    "    print(f\"ID: {id}, Contenido: {content[:100]} \", f\"Metadata: {metadata}\", f\"Embedding: {embedding[:5]}...\")"
   ]
  },
  {
   "cell_type": "markdown",
   "metadata": {},
   "source": [
    "### **Ejercicio 1: Crear y Consultar**"
   ]
  },
  {
   "cell_type": "markdown",
   "metadata": {},
   "source": [
    "##### 1.1. Crea un documento nuevo con el texto: \"Un desarrollador ágil resolvió rápidamente el aumento de usuarios adaptando su sistema con soluciones funcionales, mientras que un arquitecto de software no pudo implementar a tiempo su compleja infraestructura.\". "
   ]
  },
  {
   "cell_type": "code",
   "execution_count": 10,
   "metadata": {},
   "outputs": [
    {
     "name": "stdout",
     "output_type": "stream",
     "text": [
      "✅ Documento añadido con ID: dfcd6efa-fbf4-478d-b520-8138cf646861\n"
     ]
    }
   ],
   "source": [
    "new_doc = \"Un desarrollador ágil resolvió rápidamente el aumento de usuarios adaptando su sistema con soluciones funcionales, mientras que un arquitecto de software no pudo implementar a tiempo su compleja infraestructura.\"\n",
    "create_example(new_doc)"
   ]
  },
  {
   "cell_type": "markdown",
   "metadata": {},
   "source": [
    "##### 1.2. Realiza una consulta para encontrar documentos similares a la frase: \"Cómo adaptarse rápidamente a un crecimiento inesperado sin depender de planes demasiado elaborados.\". "
   ]
  },
  {
   "cell_type": "code",
   "execution_count": 11,
   "metadata": {},
   "outputs": [
    {
     "name": "stdout",
     "output_type": "stream",
     "text": [
      "📄 Mejor coincidencia: io, nunca estuvo operativo a tiempo.\n",
      "\n",
      "En el mundo de la tecnología, actuar a tiempo con soluciones funcionales suele ser más valioso que perseguir la perfección inalcanzable. A veces, la rapidez y la adaptabilidad pueden superar incluso a las mejores intenciones de robustez absoluta.\n",
      "📁 Fuente: doc1.txt\n",
      "🆔 ID: 85d2d3fc-47d7-4cc8-820a-9e78bee355d9\n"
     ]
    }
   ],
   "source": [
    "query = \"Cómo adaptarse rápidamente a un crecimiento inesperado sin depender de planes demasiado elaborados.\"\n",
    "\n",
    "read_example(query)"
   ]
  },
  {
   "cell_type": "markdown",
   "metadata": {},
   "source": [
    "##### 1.3. ¿Qué tipo de operación CRUD usaste primero?"
   ]
  },
  {
   "cell_type": "markdown",
   "metadata": {},
   "source": [
    "La primera operación CRUD fue:          **CREATE** → Creación de un documento (almacenar el texto original).\n",
    "\n"
   ]
  },
  {
   "cell_type": "markdown",
   "metadata": {},
   "source": [
    "##### 1.4. ¿Cuál es el ID del documento creado? (Usa collection.peek()).\n",
    "    \n"
   ]
  },
  {
   "cell_type": "code",
   "execution_count": null,
   "metadata": {},
   "outputs": [
    {
     "name": "stdout",
     "output_type": "stream",
     "text": [
      "\tEl ID del nuevo documento es:\t dfcd6efa-fbf4-478d-b520-8138cf646861\n"
     ]
    }
   ],
   "source": [
    "ID_nuevo_documento = collection.get()[\"ids\"][-1]  #-1 por ser el último documento añadido. \n",
    "print('\\tEl ID del nuevo documento es:\\t', ID_nuevo_documento)"
   ]
  },
  {
   "cell_type": "markdown",
   "metadata": {},
   "source": [
    "##### 1.5. Explica por qué el documento aparece como coincidencia en la consulta."
   ]
  },
  {
   "cell_type": "markdown",
   "metadata": {},
   "source": [
    "El texto del doc1.txt (\"actuar a tiempo con soluciones funcionales suele ser más valioso...\") tiene un significado muy similar a la consulta:\n",
    "\n",
    "\"Cómo adaptarse rápidamente a un crecimiento inesperado sin depender de planes demasiado elaborados.\"\n",
    "\n",
    "Ambos textos hablan de:\n",
    "\n",
    "- Adaptarse rápidamente\n",
    "- Responder funcionalmente frente a situaciones de urgencia\n",
    "- Evitar la parálisis por planificación excesiva\n",
    "\n",
    "Por eso el motor de búsqueda semántica detecta como mejor coincidencia el documento que, aunque no repita exactamente las palabras, captura el mismo concepto o moraleja."
   ]
  },
  {
   "cell_type": "markdown",
   "metadata": {},
   "source": [
    "### **Ejercicio 2: Actualizar y Eliminar**"
   ]
  },
  {
   "cell_type": "markdown",
   "metadata": {},
   "source": [
    "##### 2.1. Crea un documento con el texto: \"Mientras un científico de machine learning perfeccionaba modelos complejos, una analista de datos detectó fallas reales aplicando reglas simples y prácticas, demostrando que la simplicidad puede ser más efectiva en situaciones críticas.\" "
   ]
  },
  {
   "cell_type": "code",
   "execution_count": 24,
   "metadata": {},
   "outputs": [
    {
     "name": "stdout",
     "output_type": "stream",
     "text": [
      "✅ Documento añadido con ID: 563e8000-e556-423c-aecf-af3db85b63ea\n"
     ]
    }
   ],
   "source": [
    "new_doc2 = \"Mientras un científico de machine learning perfeccionaba modelos complejos, una analista de datos detectó fallas reales aplicando reglas simples y prácticas, demostrando que la simplicidad puede ser más efectiva en situaciones críticas.\"\n",
    "\n",
    "create_example(new_doc2)"
   ]
  },
  {
   "cell_type": "markdown",
   "metadata": {},
   "source": [
    "##### 2.2. Encuentra su ID, luego actualízalo por: \"Por qué en entornos críticos a veces una solución sencilla funciona mejor que un modelo sofisticado.\""
   ]
  },
  {
   "cell_type": "code",
   "execution_count": null,
   "metadata": {},
   "outputs": [],
   "source": [
    "new_text = \"Por qué en entornos críticos a veces una solución sencilla funciona mejor que un modelo sofisticado\"\n",
    "old_id = \"563e8000-e556-423c-aecf-af3db85b63ea\"\n",
    "\n",
    "update_example(old_id, new_text)"
   ]
  },
  {
   "cell_type": "markdown",
   "metadata": {},
   "source": [
    "##### 2.3. Elimina el documento original usando el mismo ID. "
   ]
  },
  {
   "cell_type": "code",
   "execution_count": null,
   "metadata": {},
   "outputs": [
    {
     "name": "stdout",
     "output_type": "stream",
     "text": [
      "♻️ Documento actualizado. Nuevo ID: 39d29945-882a-46b4-9e31-9d6124280d49\n"
     ]
    }
   ],
   "source": [
    "update_example(old_id, new_text)"
   ]
  },
  {
   "cell_type": "markdown",
   "metadata": {},
   "source": [
    "##### 2.4. ¿Qué ocurre si intentas actualizar un documento eliminado?**"
   ]
  },
  {
   "cell_type": "markdown",
   "metadata": {},
   "source": [
    "En la función `update_example`, el proceso de actualización se basa en eliminar un documento a partir de su ID y luego agregar uno nuevo con el contenido modificado.\n",
    "\n",
    "Si se intenta actualizar un documento que ya fue eliminado previamente, la instrucción `collection.delete(ids=[old_id])` simplemente no encuentra ningún elemento que borrar y no genera un error grave. Este comportamiento es normal, ya que muchas bases de datos vectoriales están diseñadas para ser tolerantes a este tipo de situaciones, permitiendo realizar operaciones idempotentes (es decir, que puedan ejecutarse varias veces sin alterar el estado final)."
   ]
  },
  {
   "cell_type": "markdown",
   "metadata": {},
   "source": [
    "##### 2.5. ¿Cómo se garantiza la integridad de los datos en las operaciones?\n"
   ]
  },
  {
   "cell_type": "markdown",
   "metadata": {},
   "source": [
    "La integridad de los datos se preserva a través de los siguientes mecanismos:\n",
    "\n",
    "1. Identificadores únicos: Cada documento cuenta con un `id` exclusivo (en este caso generado mediante `uuid.uuid4())` , lo que previene colisiones o sobrescrituras accidentales.\n",
    "\n",
    "2. Eliminación previa a la inserción: Al eliminar el documento existente antes de agregar uno nuevo, se evita la aparición de duplicados involuntarios tras modificaciones.\n",
    "\n",
    "3. Gestión de metadatos: Mediante el uso de campos como `source` en los metadata, es posible rastrear el origen y estado de cada documento, incluso después de una actualización.\n",
    "\n",
    "4. Embeddings actualizados: Cada vez que se inserta un documento nuevo, su representación vectorial se recalcula, garantizando que el embedding refleje fielmente el contenido actualizado.\n",
    "\n",
    "Este método de \"eliminar y volver a insertar\" resulta sencillo pero eficaz para mantener la consistencia en bases de datos vectoriales que, en general, no ofrecen una operación de update directa."
   ]
  },
  {
   "cell_type": "markdown",
   "metadata": {},
   "source": [
    "### **Ejercicio 3: Errores y Validación**"
   ]
  },
  {
   "cell_type": "markdown",
   "metadata": {},
   "source": [
    "##### 3.1. Intenta eliminar un documento con el ID \"no_existe\". "
   ]
  },
  {
   "cell_type": "code",
   "execution_count": 28,
   "metadata": {},
   "outputs": [
    {
     "name": "stderr",
     "output_type": "stream",
     "text": [
      "Delete of nonexisting embedding ID: no_existe\n",
      "Delete of nonexisting embedding ID: no_existe\n"
     ]
    },
    {
     "name": "stdout",
     "output_type": "stream",
     "text": [
      "🗑️ Documento con ID 'no_existe' eliminado.\n"
     ]
    }
   ],
   "source": [
    "delete_example(\"no_existe\")"
   ]
  },
  {
   "cell_type": "markdown",
   "metadata": {},
   "source": [
    "##### 3.2. Crea un nuevo documento sin usar get_embeddings() (ejemplo: enviar un array vacío). "
   ]
  },
  {
   "cell_type": "code",
   "execution_count": null,
   "metadata": {},
   "outputs": [
    {
     "name": "stderr",
     "output_type": "stream",
     "text": [
      "--- Logging error ---\n",
      "Traceback (most recent call last):\n",
      "  File \"c:\\Users\\heguu\\miniconda3\\envs\\vector_db\\lib\\site-packages\\chromadb\\db\\mixins\\embeddings_queue.py\", line 308, in _notify_one\n",
      "    sub.callback(filtered_embeddings)\n",
      "  File \"c:\\Users\\heguu\\miniconda3\\envs\\vector_db\\lib\\site-packages\\chromadb\\segment\\impl\\vector\\local_persistent_hnsw.py\", line 211, in _write_records\n",
      "    self._ensure_index(len(records), len(record[\"embedding\"]))\n",
      "  File \"c:\\Users\\heguu\\miniconda3\\envs\\vector_db\\lib\\site-packages\\chromadb\\segment\\impl\\vector\\local_hnsw.py\", line 208, in _ensure_index\n",
      "    raise InvalidDimensionException(\n",
      "chromadb.errors.InvalidDimensionException: Dimensionality of (0) does not match indexdimensionality (384)\n",
      "\n",
      "During handling of the above exception, another exception occurred:\n",
      "\n",
      "Traceback (most recent call last):\n",
      "  File \"c:\\Users\\heguu\\miniconda3\\envs\\vector_db\\lib\\logging\\__init__.py\", line 1100, in emit\n",
      "    msg = self.format(record)\n",
      "  File \"c:\\Users\\heguu\\miniconda3\\envs\\vector_db\\lib\\logging\\__init__.py\", line 943, in format\n",
      "    return fmt.format(record)\n",
      "  File \"c:\\Users\\heguu\\miniconda3\\envs\\vector_db\\lib\\logging\\__init__.py\", line 678, in format\n",
      "    record.message = record.getMessage()\n",
      "  File \"c:\\Users\\heguu\\miniconda3\\envs\\vector_db\\lib\\logging\\__init__.py\", line 368, in getMessage\n",
      "    msg = msg % self.args\n",
      "TypeError: not all arguments converted during string formatting\n",
      "Call stack:\n",
      "  File \"c:\\Users\\heguu\\miniconda3\\envs\\vector_db\\lib\\runpy.py\", line 196, in _run_module_as_main\n",
      "    return _run_code(code, main_globals, None,\n",
      "  File \"c:\\Users\\heguu\\miniconda3\\envs\\vector_db\\lib\\runpy.py\", line 86, in _run_code\n",
      "    exec(code, run_globals)\n",
      "  File \"c:\\Users\\heguu\\miniconda3\\envs\\vector_db\\lib\\site-packages\\ipykernel_launcher.py\", line 18, in <module>\n",
      "    app.launch_new_instance()\n",
      "  File \"c:\\Users\\heguu\\miniconda3\\envs\\vector_db\\lib\\site-packages\\traitlets\\config\\application.py\", line 1075, in launch_instance\n",
      "    app.start()\n",
      "  File \"c:\\Users\\heguu\\miniconda3\\envs\\vector_db\\lib\\site-packages\\ipykernel\\kernelapp.py\", line 739, in start\n",
      "    self.io_loop.start()\n",
      "  File \"c:\\Users\\heguu\\miniconda3\\envs\\vector_db\\lib\\site-packages\\tornado\\platform\\asyncio.py\", line 205, in start\n",
      "    self.asyncio_loop.run_forever()\n",
      "  File \"c:\\Users\\heguu\\miniconda3\\envs\\vector_db\\lib\\asyncio\\base_events.py\", line 603, in run_forever\n",
      "    self._run_once()\n",
      "  File \"c:\\Users\\heguu\\miniconda3\\envs\\vector_db\\lib\\asyncio\\base_events.py\", line 1909, in _run_once\n",
      "    handle._run()\n",
      "  File \"c:\\Users\\heguu\\miniconda3\\envs\\vector_db\\lib\\asyncio\\events.py\", line 80, in _run\n",
      "    self._context.run(self._callback, *self._args)\n",
      "  File \"c:\\Users\\heguu\\miniconda3\\envs\\vector_db\\lib\\site-packages\\ipykernel\\kernelbase.py\", line 545, in dispatch_queue\n",
      "    await self.process_one()\n",
      "  File \"c:\\Users\\heguu\\miniconda3\\envs\\vector_db\\lib\\site-packages\\ipykernel\\kernelbase.py\", line 534, in process_one\n",
      "    await dispatch(*args)\n",
      "  File \"c:\\Users\\heguu\\miniconda3\\envs\\vector_db\\lib\\site-packages\\ipykernel\\kernelbase.py\", line 437, in dispatch_shell\n",
      "    await result\n",
      "  File \"c:\\Users\\heguu\\miniconda3\\envs\\vector_db\\lib\\site-packages\\ipykernel\\ipkernel.py\", line 362, in execute_request\n",
      "    await super().execute_request(stream, ident, parent)\n",
      "  File \"c:\\Users\\heguu\\miniconda3\\envs\\vector_db\\lib\\site-packages\\ipykernel\\kernelbase.py\", line 778, in execute_request\n",
      "    reply_content = await reply_content\n",
      "  File \"c:\\Users\\heguu\\miniconda3\\envs\\vector_db\\lib\\site-packages\\ipykernel\\ipkernel.py\", line 449, in do_execute\n",
      "    res = shell.run_cell(\n",
      "  File \"c:\\Users\\heguu\\miniconda3\\envs\\vector_db\\lib\\site-packages\\ipykernel\\zmqshell.py\", line 549, in run_cell\n",
      "    return super().run_cell(*args, **kwargs)\n",
      "  File \"c:\\Users\\heguu\\miniconda3\\envs\\vector_db\\lib\\site-packages\\IPython\\core\\interactiveshell.py\", line 3077, in run_cell\n",
      "    result = self._run_cell(\n",
      "  File \"c:\\Users\\heguu\\miniconda3\\envs\\vector_db\\lib\\site-packages\\IPython\\core\\interactiveshell.py\", line 3132, in _run_cell\n",
      "    result = runner(coro)\n",
      "  File \"c:\\Users\\heguu\\miniconda3\\envs\\vector_db\\lib\\site-packages\\IPython\\core\\async_helpers.py\", line 128, in _pseudo_sync_runner\n",
      "    coro.send(None)\n",
      "  File \"c:\\Users\\heguu\\miniconda3\\envs\\vector_db\\lib\\site-packages\\IPython\\core\\interactiveshell.py\", line 3336, in run_cell_async\n",
      "    has_raised = await self.run_ast_nodes(code_ast.body, cell_name,\n",
      "  File \"c:\\Users\\heguu\\miniconda3\\envs\\vector_db\\lib\\site-packages\\IPython\\core\\interactiveshell.py\", line 3519, in run_ast_nodes\n",
      "    if await self.run_code(code, result, async_=asy):\n",
      "  File \"c:\\Users\\heguu\\miniconda3\\envs\\vector_db\\lib\\site-packages\\IPython\\core\\interactiveshell.py\", line 3579, in run_code\n",
      "    exec(code_obj, self.user_global_ns, self.user_ns)\n",
      "  File \"C:\\Users\\heguu\\AppData\\Local\\Temp\\ipykernel_11112\\2983630529.py\", line 2, in <module>\n",
      "    collection.add(\n",
      "  File \"c:\\Users\\heguu\\miniconda3\\envs\\vector_db\\lib\\site-packages\\chromadb\\api\\models\\Collection.py\", line 99, in add\n",
      "    self._client._add(ids, self.id, embeddings, metadatas, documents)\n",
      "  File \"c:\\Users\\heguu\\miniconda3\\envs\\vector_db\\lib\\site-packages\\chromadb\\api\\segment.py\", line 249, in _add\n",
      "    self._producer.submit_embeddings(coll[\"topic\"], records_to_submit)\n",
      "  File \"c:\\Users\\heguu\\miniconda3\\envs\\vector_db\\lib\\site-packages\\chromadb\\db\\mixins\\embeddings_queue.py\", line 165, in submit_embeddings\n",
      "    self._notify_all(topic_name, embedding_records)\n",
      "  File \"c:\\Users\\heguu\\miniconda3\\envs\\vector_db\\lib\\site-packages\\chromadb\\db\\mixins\\embeddings_queue.py\", line 287, in _notify_all\n",
      "    self._notify_one(sub, embeddings)\n",
      "  File \"c:\\Users\\heguu\\miniconda3\\envs\\vector_db\\lib\\site-packages\\chromadb\\db\\mixins\\embeddings_queue.py\", line 312, in _notify_one\n",
      "    logger.error(\n",
      "Message: 'Exception occurred invoking consumer for subscription 8daa4eab-d6bd-4aaf-8353-aa36a6302ca5to topic persistent://default/default/232c68b3-cbe4-4247-b5c4-94332cafa26a'\n",
      "Arguments: (InvalidDimensionException('Dimensionality of (0) does not match indexdimensionality (384)'),)\n"
     ]
    }
   ],
   "source": [
    "# Crear un documento sin usar get_embeddings()\n",
    "collection.add(\n",
    "    documents=[\"Texto sin embedding\"],\n",
    "    embeddings=[[]],  # array vacío\n",
    "    metadatas=[{\"source\": \"sin_embedding.txt\"}],\n",
    "    ids=[str(uuid.uuid4())]\n",
    ")"
   ]
  },
  {
   "cell_type": "markdown",
   "metadata": {},
   "source": [
    "##### 3.3. ¿Qué errores ocurren en cada caso?"
   ]
  },
  {
   "cell_type": "markdown",
   "metadata": {},
   "source": [
    "- **Intentar eliminar un documento con un ID inexistente:**\n",
    "\n",
    "  No se produce un error crítico. ChromaDB simplemente ignora el ID si no está presente en la colección. Este comportamiento es **seguro e idempotente**, lo que permite realizar múltiples intentos de eliminación sin comprometer la integridad de la base de datos.\n",
    "\n",
    "- **Agregar un documento sin utilizar `get_embeddings()` (por ejemplo, proporcionando una lista vacía):**\n",
    "\n",
    "  En este caso, se genera un **`ValueError`** o un **`RuntimeError`**, dependiendo del backend utilizado. Esto ocurre porque el sistema espera un **vector numérico válido** para completar la operación, y un array vacío no cumple con esa condición. La inserción falla al intentar procesar un embedding inválido.\n"
   ]
  },
  {
   "cell_type": "markdown",
   "metadata": {},
   "source": [
    "##### 3.4. ¿Cómo prevenir estos problemas?"
   ]
  },
  {
   "cell_type": "markdown",
   "metadata": {},
   "source": [
    "- **Verificar la existencia del ID antes de eliminar:**\n",
    "\n",
    "  Antes de intentar eliminar un documento, es recomendable comprobar si el ID se encuentra registrado en la colección. Esta práctica ayuda a evitar operaciones innecesarias o confusas sobre elementos que no existen.\n",
    "\n",
    "- **Validar la generación de embeddings antes de agregar documentos:**\n",
    "\n",
    "  Para prevenir errores durante la inserción de documentos, es esencial confirmar que los embeddings se hayan generado correctamente y que no estén vacíos. Validar este paso garantiza que el\n"
   ]
  },
  {
   "cell_type": "markdown",
   "metadata": {},
   "source": [
    "### **Ejercicio 4: Consultas por Tema**"
   ]
  },
  {
   "cell_type": "markdown",
   "metadata": {},
   "source": [
    "##### 4.1. Crea tres documentos: \n"
   ]
  },
  {
   "cell_type": "markdown",
   "metadata": {},
   "source": [
    "* \"Un desarrollador ágil prefiere lenguajes ligeros y flexibles como JavaScript y Python para construir soluciones rápidas y adaptables.\"\n",
    "* \"Los arquitectos de software suelen optar por lenguajes robustos como Java o C# para diseñar infraestructuras escalables y seguras en grandes sistemas empresariales.\"\n",
    "* \"En ciberseguridad, lenguajes como Python son fundamentales tanto para automatizar defensas como para desarrollar herramientas de auditoría y análisis forense.\""
   ]
  },
  {
   "cell_type": "code",
   "execution_count": 29,
   "metadata": {},
   "outputs": [
    {
     "name": "stdout",
     "output_type": "stream",
     "text": [
      "✅ Documento añadido con ID: 5fa6f522-c97e-46c8-bc12-c865fec1e612\n",
      "✅ Documento añadido con ID: e817cb8e-3b97-4164-bbe2-3cfcdd3f71d7\n",
      "✅ Documento añadido con ID: c9e029a4-8b10-4812-a3d9-4b07f5e75e96\n"
     ]
    }
   ],
   "source": [
    "doc1 = \"Un desarrollador ágil prefiere lenguajes ligeros y flexibles como JavaScript y Python para construir soluciones rápidas y adaptables\"\n",
    "doc2 = \"Los arquitectos de software suelen optar por lenguajes robustos como Java o C# para diseñar infraestructuras escalables y seguras en grandes sistemas empresariales\" \n",
    "doc3 = \"En ciberseguridad, lenguajes como Python son fundamentales tanto para automatizar defensas como para desarrollar herramientas de auditoría y análisis forense\" \n",
    "\n",
    "create_example(doc1)\n",
    "create_example(doc2)\n",
    "create_example(doc3)"
   ]
  },
  {
   "cell_type": "markdown",
   "metadata": {},
   "source": [
    "##### 4.2. Realiza una consulta por la frase: \"Lenguajes backend y frontend\". "
   ]
  },
  {
   "cell_type": "code",
   "execution_count": 30,
   "metadata": {},
   "outputs": [
    {
     "name": "stdout",
     "output_type": "stream",
     "text": [
      "📄 Mejor coincidencia: En una empresa de tecnología en rápido crecimiento, trabajaban juntos un desarrollador ágil y un arquitecto de software. El desarrollador creía en moverse rápido: escribía código funcional sin preocuparse demasiado por la escalabilidad o el diseño a largo plazo. El arquitecto, en cambio, dedicaba semanas a planificar infraestructuras complejas, diseñando arquitecturas robustas que pudieran resistir el paso del tiempo.\n",
      "\n",
      "Un día, la empresa consiguió un gran contrato que implicaba duplicar la canti\n",
      "📁 Fuente: doc1.txt\n",
      "🆔 ID: 671a8c3b-7d72-4c2a-9856-e3eb2f61fb57\n"
     ]
    }
   ],
   "source": [
    "consulta = \"Lenguajes backend y frontend\"\n",
    "read_example(consulta)"
   ]
  },
  {
   "cell_type": "markdown",
   "metadata": {},
   "source": [
    "##### 4.3. ¿Cuáles documentos aparecen como coincidencias?\n"
   ]
  },
  {
   "cell_type": "markdown",
   "metadata": {},
   "source": [
    "El doc1.txt con ID 671a8c3b-7d72-4c2a-9856-e3eb2f61fb57 fue identificado como la mejor coincidencia, y tiene sentido ya que menciona JavaScript (frontend) y Python (que podría ser backend)"
   ]
  },
  {
   "cell_type": "markdown",
   "metadata": {},
   "source": [
    "##### 4.4. Analiza cómo las palabras clave influyen en los resultados\n"
   ]
  },
  {
   "cell_type": "markdown",
   "metadata": {},
   "source": [
    "En base a la consulta realizada con la frase \"Lenguajes backend y frontend\", los resultados obtenidos se explican de la siguiente manera:\n",
    "\n",
    "El Documento 1 se muestra como la coincidencia más relevante, ya que menciona explícitamente JavaScript —un lenguaje ampliamente utilizado en el desarrollo frontend— y Python, que puede desempeñarse como lenguaje de backend. Esto genera una correspondencia directa con ambos conceptos buscados.\n",
    "\n",
    "El Documento 2 también aparece como coincidencia, dado que hace referencia a Java, un lenguaje clásico y robusto para el desarrollo de aplicaciones de backend, especialmente en entornos empresariales. Aunque no se menciona explícitamente un lenguaje de frontend, la mención de un lenguaje backend importante contribuye a su relevancia parcial.\n",
    "\n",
    "Por otro lado, el Documento 3 resulta menos relacionado con la consulta, ya que se centra en el uso de Python dentro del contexto de ciberseguridad y análisis forense, sin hacer mención específica al uso de lenguajes en backend o frontend.\n",
    "\n",
    "En resumen, las palabras clave como \"JavaScript\", \"Python\" y \"Java\" son determinantes en el nivel de coincidencia, mientras que la asociación explícita a los roles de backend y frontend incrementa la pertinencia de los documentos respecto a la consulta planteada."
   ]
  },
  {
   "cell_type": "markdown",
   "metadata": {},
   "source": [
    "### **Ejercicio 5: Eliminaciones Selectivas**\n"
   ]
  },
  {
   "cell_type": "markdown",
   "metadata": {},
   "source": [
    "##### 5.1. Crea dos documentos con tópicos opuestos (ejemplo: uno sobre \"Ecología\" y otro sobre \"Minería de datos\"). \n",
    "\n"
   ]
  },
  {
   "cell_type": "markdown",
   "metadata": {},
   "source": [
    "Usaremos los conceptos de \"Desarrollo Ágil\" y \"Arquitectura de Software Robusta\" como temas opuestos dentro de los textos. "
   ]
  },
  {
   "cell_type": "code",
   "execution_count": null,
   "metadata": {},
   "outputs": [
    {
     "name": "stdout",
     "output_type": "stream",
     "text": [
      "Cantidad de documentos en la colección: 35\n"
     ]
    }
   ],
   "source": [
    "#Primero quiero ver cuantos documentos hay \n",
    "count = collection.count()\n",
    "print(f\"Cantidad de documentos en la colección: {count}\")"
   ]
  },
  {
   "cell_type": "code",
   "execution_count": 35,
   "metadata": {},
   "outputs": [
    {
     "name": "stdout",
     "output_type": "stream",
     "text": [
      "✅ Documento añadido con ID: f8f52ec0-47df-4c64-86fe-c75a21f3f406\n",
      "✅ Documento añadido con ID: d4c1e679-5b32-4bf9-a127-0fa9e5bc22a7\n"
     ]
    }
   ],
   "source": [
    "create_example(\"El desarrollo ágil prioriza la entrega rápida y continua de funcionalidades, adaptándose a cambios frecuentes de requerimientos\")\n",
    "create_example(\"La arquitectura de software robusta apuesta por un diseño meticuloso, estable y planificado, capaz de soportar cambios a largo plazo sin comprometer la calidad\")"
   ]
  },
  {
   "cell_type": "code",
   "execution_count": 36,
   "metadata": {},
   "outputs": [
    {
     "name": "stdout",
     "output_type": "stream",
     "text": [
      "Cantidad de documentos en la colección: 39\n"
     ]
    }
   ],
   "source": [
    "count = collection.count()\n",
    "print(f\"Cantidad de documentos en la colección: {count}\")"
   ]
  },
  {
   "cell_type": "markdown",
   "metadata": {},
   "source": [
    "##### 5.2. Elimina el documento sobre \"Desarrollo Ágil\" usando su ID. "
   ]
  },
  {
   "cell_type": "code",
   "execution_count": 37,
   "metadata": {},
   "outputs": [
    {
     "name": "stdout",
     "output_type": "stream",
     "text": [
      "🗑️ Documento con ID 'f8f52ec0-47df-4c64-86fe-c75a21f3f406' eliminado.\n"
     ]
    }
   ],
   "source": [
    "# Se eliminara el documento relacionado con la magia.\n",
    "\n",
    "id_desarrollo = \"f8f52ec0-47df-4c64-86fe-c75a21f3f406\"\n",
    "delete_example(id_desarrollo)"
   ]
  },
  {
   "cell_type": "markdown",
   "metadata": {},
   "source": [
    "##### 5.3. Verifica que solo quede un documento. "
   ]
  },
  {
   "cell_type": "code",
   "execution_count": 38,
   "metadata": {},
   "outputs": [
    {
     "name": "stdout",
     "output_type": "stream",
     "text": [
      "Cantidad de documentos restantes en la colección: 38\n"
     ]
    }
   ],
   "source": [
    "count = collection.count()\n",
    "print(f\"Cantidad de documentos restantes en la colección: {count}\")"
   ]
  },
  {
   "cell_type": "markdown",
   "metadata": {},
   "source": [
    "##### 5.4. ¿Cómo usar collection.count() para confirmar? \n"
   ]
  },
  {
   "cell_type": "markdown",
   "metadata": {},
   "source": [
    "Luego de ejecutar la operación `delete_example`, se utilizó el método `collection.count()` para verificar la cantidad de documentos almacenados en la colección.\n",
    "Esta verificación es fundamental porque `collection.count()` proporciona el número exacto de documentos activos, sin necesidad de realizar consultas o búsquedas adicionales.\n",
    "\n",
    "El resultado mostró que quedaba un solo documento de los dos creados, lo cual confirma que:\n",
    "\n",
    "- El documento con `Desarollo Ágil` fue efectivamente eliminado.\n",
    "\n",
    "- El documento sobre `Arquitectura robusta` permanece en la colección.\n",
    "\n",
    "- La operación de eliminación fue selectiva y precisa, afectando únicamente el documento especificado."
   ]
  },
  {
   "cell_type": "markdown",
   "metadata": {},
   "source": [
    "### **Ejercicio 6: Actualización en Cadena**"
   ]
  },
  {
   "cell_type": "markdown",
   "metadata": {},
   "source": [
    "##### 6.1. Crea un documento con el texto \"Los enfoques estratégicos en el desarrollo de software moderno\". "
   ]
  },
  {
   "cell_type": "code",
   "execution_count": 39,
   "metadata": {},
   "outputs": [
    {
     "name": "stdout",
     "output_type": "stream",
     "text": [
      "✅ Documento añadido con ID: ba74afde-74d6-49ad-8799-c2d9161f05e7\n"
     ]
    }
   ],
   "source": [
    "create_example(\"Los enfoques estratégicos en el desarrollo de software moderno\")"
   ]
  },
  {
   "cell_type": "markdown",
   "metadata": {},
   "source": [
    "##### 6.2. Actualízalo dos veces:"
   ]
  },
  {
   "cell_type": "markdown",
   "metadata": {},
   "source": [
    "Primera actualización: \"La agilidad como respuesta a la incertidumbre en la gestión de proyectos de software\" \n"
   ]
  },
  {
   "cell_type": "code",
   "execution_count": null,
   "metadata": {},
   "outputs": [
    {
     "name": "stdout",
     "output_type": "stream",
     "text": [
      "♻️ Documento actualizado. Nuevo ID: f7734644-9456-4894-ac79-cd283dc59bdd\n"
     ]
    }
   ],
   "source": [
    "id_doc_inicial = \"ba74afde-74d6-49ad-8799-c2d9161f05e7\"\n",
    "\n",
    "#Primera actualización: \n",
    "update_example(id_doc_inicial, \"La agilidad como respuesta a la incertidumbre en la gestión de proyectos de software\")\n"
   ]
  },
  {
   "cell_type": "markdown",
   "metadata": {},
   "source": [
    "Segunda actualización: \"La importancia de diseñar arquitecturas robustas frente a los riesgos de seguridad y escalabilidad\". "
   ]
  },
  {
   "cell_type": "code",
   "execution_count": null,
   "metadata": {},
   "outputs": [
    {
     "name": "stderr",
     "output_type": "stream",
     "text": [
      "Delete of nonexisting embedding ID: ba74afde-74d6-49ad-8799-c2d9161f05e7\n",
      "Delete of nonexisting embedding ID: ba74afde-74d6-49ad-8799-c2d9161f05e7\n"
     ]
    },
    {
     "name": "stdout",
     "output_type": "stream",
     "text": [
      "♻️ Documento actualizado. Nuevo ID: e29a971c-261c-4cbb-ad66-142acc284209\n"
     ]
    }
   ],
   "source": [
    "# Segunda actualización: \n",
    "update_example(id_doc_inicial, \"La importancia de diseñar arquitecturas robustas frente a los riesgos de seguridad y escalabilidad\")"
   ]
  },
  {
   "cell_type": "markdown",
   "metadata": {},
   "source": [
    "##### 6.3. ¿Cómo sigue evolucionando el contenido del documento con cada update? "
   ]
  },
  {
   "cell_type": "markdown",
   "metadata": {},
   "source": [
    "El contenido del documento evoluciona progresivamente a medida que se realizan las actualizaciones, pasando de una perspectiva general a una más específica y orientada a problemáticas concretas dentro del desarrollo de software.\n",
    "\n",
    "- En la **versión inicial**, el documento presenta una visión amplia sobre los enfoques estratégicos en el desarrollo de software moderno, sin profundizar en metodologías particulares.\n",
    "\n",
    "- La **primera actualización** introduce el concepto de **agilidad como respuesta frente a la incertidumbre**, enfocándose en la capacidad de adaptación en entornos cambiantes. Aquí el contenido se especializa hacia un marco metodológico ágil y su utilidad en la gestión de proyectos.\n",
    "\n",
    "- En la **segunda actualización**, la atención se desplaza hacia la necesidad de **diseñar arquitecturas robustas**, incorporando elementos relacionados con la **seguridad** y la **escalabilidad**. El contenido pasa de centrarse en la flexibilidad a resaltar la importancia de estructuras sólidas para el desarrollo sostenible a largo plazo.\n",
    "\n",
    "En conjunto, cada actualización **refina y redirige el enfoque temático** del documento, representando una evolución conceptual que va de lo general a lo técnico-específico, abordando distintas dimensiones estratégicas del desarrollo de software.\n"
   ]
  },
  {
   "cell_type": "markdown",
   "metadata": {},
   "source": [
    "### **Ejercicio 7: Consultas Ambiguas**\n"
   ]
  },
  {
   "cell_type": "markdown",
   "metadata": {},
   "source": [
    "##### 7.1. Crea dos documentos similares pero no idénticos\n"
   ]
  },
  {
   "cell_type": "markdown",
   "metadata": {},
   "source": [
    "* \"El desarrollo ágil busca entregar valor al cliente de forma continua y con ciclos cortos.\n",
    "* \"El objetivo del enfoque ágil es entregar funcionalidades útiles lo más rápido posible\""
   ]
  },
  {
   "cell_type": "code",
   "execution_count": 42,
   "metadata": {},
   "outputs": [
    {
     "name": "stdout",
     "output_type": "stream",
     "text": [
      "✅ Documento añadido con ID: 4aa6fc4e-c594-47b4-badf-9d22dffdd569\n",
      "✅ Documento añadido con ID: d532b2f9-743a-4228-b7c0-f0f46d84c2ab\n"
     ]
    }
   ],
   "source": [
    "create_example(\"El desarrollo ágil busca entregar valor al cliente de forma continua y con ciclos cortos\")\n",
    "create_example(\"El objetivo del enfoque ágil es entregar funcionalidades útiles lo más rápido posible\")"
   ]
  },
  {
   "cell_type": "markdown",
   "metadata": {},
   "source": [
    "##### 7.2. Realiza una consulta por \"Entrega rápida de valor en metodologías ágiles\". "
   ]
  },
  {
   "cell_type": "code",
   "execution_count": 43,
   "metadata": {},
   "outputs": [
    {
     "name": "stdout",
     "output_type": "stream",
     "text": [
      "📄 Mejor coincidencia: El desarrollo ágil busca entregar valor al cliente de forma continua y con ciclos cortos\n",
      "📁 Fuente: nuevo_documento.txt\n",
      "🆔 ID: 4aa6fc4e-c594-47b4-badf-9d22dffdd569\n"
     ]
    }
   ],
   "source": [
    "read_example(\"Entrega rápida de valor en metodologías ágiles\")"
   ]
  },
  {
   "cell_type": "markdown",
   "metadata": {},
   "source": [
    "##### 7.3. ¿Ambos documentos aparecen?"
   ]
  },
  {
   "cell_type": "markdown",
   "metadata": {},
   "source": [
    "No, solo aparece el nuevo_documento.txt: \"El desarrollo ágil busca entregar valor al cliente de forma continua y con ciclos cortos\".\n",
    "\n",
    "Esto indica que ChromaDB identificó una mayor similitud semántica entre esa frase y la consulta \"Entrega rápida de valor en metodologías ágiles\", en comparación con el otro documento.\n",
    "\n",
    "Aunque ambos textos tratan sobre el enfoque ágil y la entrega de valor, el documento seleccionado coincide más estrechamente con la estructura semántica de la consulta, especialmente por incluir directamente los conceptos de “valor”, “entrega” y “ciclos cortos”, que están alineados con la idea de rapidez y metodologías ágiles."
   ]
  },
  {
   "cell_type": "markdown",
   "metadata": {},
   "source": [
    "##### 7.4. Explica la similitud semántica\n"
   ]
  },
  {
   "cell_type": "markdown",
   "metadata": {},
   "source": [
    "Ambas frases comparten un mismo núcleo conceptual: **la entrega ágil de valor al usuario final**.  \n",
    "La consulta —_\"Entrega rápida de valor en metodologías ágiles\"_— plantea explícitamente la relación entre **velocidad**, **valor** y **enfoque ágil**.\n",
    "\n",
    "El documento seleccionado como mejor coincidencia —_\"El desarrollo ágil busca entregar valor al cliente de forma continua y con ciclos cortos\"_— coincide estrechamente en términos semánticos, ya que contiene directamente las ideas de **“entrega”**, **“valor”**, **“cliente”**, **“forma continua”** y **“ciclos cortos”**, todos elementos centrales de la metodología ágil.\n",
    "\n",
    "Esta coincidencia refleja cómo **ChromaDB prioriza las representaciones semánticas** que abarcan tanto el **significado implícito** como el **lenguaje explícito**, y selecciona el documento cuya estructura conceptual se alinea más estrechamente con la intención de la consulta.\n"
   ]
  },
  {
   "cell_type": "markdown",
   "metadata": {},
   "source": [
    "### **Ejercicio 8: Reiniciar Base de Datos**"
   ]
  },
  {
   "cell_type": "markdown",
   "metadata": {},
   "source": [
    "##### 8.1. Elimina todos los documentos usando delete() con el parámetro correcto. "
   ]
  },
  {
   "cell_type": "code",
   "execution_count": null,
   "metadata": {},
   "outputs": [
    {
     "name": "stdout",
     "output_type": "stream",
     "text": [
      "Cantidad de documentos en la colección: 42\n"
     ]
    }
   ],
   "source": [
    "#Cuantos documentos hay en la colección? \n",
    "count = collection.count()\n",
    "print(f\"Cantidad de documentos en la colección: {count}\")"
   ]
  },
  {
   "cell_type": "code",
   "execution_count": null,
   "metadata": {},
   "outputs": [],
   "source": [
    "#Elimino todos los documentos.\n",
    "collection.delete(where={})"
   ]
  },
  {
   "cell_type": "code",
   "execution_count": null,
   "metadata": {},
   "outputs": [
    {
     "name": "stdout",
     "output_type": "stream",
     "text": [
      "Cantidad de documentos en la colección: 0\n"
     ]
    }
   ],
   "source": [
    "#Compruebo cuantos documentos hay luego de la eliminación\n",
    "count = collection.count()\n",
    "print(f\"Cantidad de documentos en la colección: {count}\")"
   ]
  },
  {
   "cell_type": "markdown",
   "metadata": {},
   "source": [
    "##### 8.2. Vuelve a cargar la base desde cero con crear_base_datos(). \n"
   ]
  },
  {
   "cell_type": "code",
   "execution_count": 47,
   "metadata": {},
   "outputs": [
    {
     "name": "stdout",
     "output_type": "stream",
     "text": [
      "✅ Base de datos creada con éxito.\n"
     ]
    }
   ],
   "source": [
    "crear_base_datos()"
   ]
  },
  {
   "cell_type": "markdown",
   "metadata": {},
   "source": [
    "##### 8.3. ¿Cuántos documentos hay ahora? (Usa collection.count()). "
   ]
  },
  {
   "cell_type": "code",
   "execution_count": 49,
   "metadata": {},
   "outputs": [
    {
     "name": "stdout",
     "output_type": "stream",
     "text": [
      "Cantidad de documentos en la colección: 9\n"
     ]
    }
   ],
   "source": [
    "#Cuantos documentos hay? \n",
    "count = collection.count()\n",
    "print(f\"Cantidad de documentos en la colección: {count}\")"
   ]
  },
  {
   "cell_type": "markdown",
   "metadata": {},
   "source": [
    "### **Ejercicio 9: Errores de Inserción**\n"
   ]
  },
  {
   "cell_type": "markdown",
   "metadata": {},
   "source": [
    "##### 9.1. Intenta crear un documento sin texto (ejemplo: cadena vacía). "
   ]
  },
  {
   "cell_type": "code",
   "execution_count": 65,
   "metadata": {},
   "outputs": [
    {
     "name": "stdout",
     "output_type": "stream",
     "text": [
      "✅ Documento añadido con ID: d01e0725-deec-4248-adef-1fb7d0e83335\n"
     ]
    }
   ],
   "source": [
    "create_example(\"\")"
   ]
  },
  {
   "cell_type": "code",
   "execution_count": 66,
   "metadata": {},
   "outputs": [],
   "source": [
    "texto_vacio = collection.get(ids=[\"d01e0725-deec-4248-adef-1fb7d0e83335\"], include=[\"documents\"])"
   ]
  },
  {
   "cell_type": "code",
   "execution_count": 67,
   "metadata": {},
   "outputs": [],
   "source": [
    "embedding = model.encode([\"\"])  # Esto también podría fallar o generar un vector nulo"
   ]
  },
  {
   "cell_type": "markdown",
   "metadata": {},
   "source": [
    "##### 9.2. Corrige el error usando la función get_embeddings()."
   ]
  },
  {
   "cell_type": "code",
   "execution_count": 68,
   "metadata": {},
   "outputs": [
    {
     "name": "stdout",
     "output_type": "stream",
     "text": [
      "Texto inválido: no se puede generar embedding desde una cadena vacía.\n"
     ]
    }
   ],
   "source": [
    "# Asignar el contenido del documento a una variable\n",
    "texto =  texto_vacio[\"documents\"][0]\n",
    "embedding = model.encode([texto])  # Esto también podría fallar o generar un vector nulo\n",
    "\n",
    "# Validar antes de agregar\n",
    "if texto.strip():\n",
    "    collection.add(documents=[texto], embeddings=embedding, ids=[\"doc_valido\"])\n",
    "else:\n",
    "    print(\"Texto inválido: no se puede generar embedding desde una cadena vacía.\")"
   ]
  },
  {
   "cell_type": "markdown",
   "metadata": {},
   "source": [
    "##### 9.3. ¿Qué lección aprendemos sobre los requisitos de ChromaDB?"
   ]
  },
  {
   "cell_type": "markdown",
   "metadata": {},
   "source": [
    "ChromaDB requiere que todo documento insertado tenga contenido textual válido, ya que la base de datos vectorial depende de los embeddings para representar semánticamente cada documento.\n",
    "\n",
    "No es posible insertar cadenas vacías o contenido que no pueda transformarse en vectores numéricos válidos.\n",
    "\n",
    "Por eso es importante validar los textos antes de insertarlos o generar manualmente los embeddings para asegurar que son apropiados."
   ]
  }
 ],
 "metadata": {
  "kernelspec": {
   "display_name": "vector_db",
   "language": "python",
   "name": "python3"
  },
  "language_info": {
   "codemirror_mode": {
    "name": "ipython",
    "version": 3
   },
   "file_extension": ".py",
   "mimetype": "text/x-python",
   "name": "python",
   "nbconvert_exporter": "python",
   "pygments_lexer": "ipython3",
   "version": "3.10.16"
  }
 },
 "nbformat": 4,
 "nbformat_minor": 2
}
